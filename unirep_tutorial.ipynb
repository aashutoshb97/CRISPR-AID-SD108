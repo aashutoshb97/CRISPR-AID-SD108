{
  "nbformat": 4,
  "nbformat_minor": 0,
  "metadata": {
    "kernelspec": {
      "display_name": "Python 3",
      "language": "python",
      "name": "python3"
    },
    "language_info": {
      "codemirror_mode": {
        "name": "ipython",
        "version": 3
      },
      "file_extension": ".py",
      "mimetype": "text/x-python",
      "name": "python",
      "nbconvert_exporter": "python",
      "pygments_lexer": "ipython3",
      "version": "3.5.2"
    },
    "colab": {
      "name": "unirep_tutorial.ipynb",
      "provenance": [],
      "collapsed_sections": [],
      "toc_visible": true,
      "include_colab_link": true
    }
  },
  "cells": [
    {
      "cell_type": "markdown",
      "metadata": {
        "id": "view-in-github",
        "colab_type": "text"
      },
      "source": [
        "<a href=\"https://colab.research.google.com/github/aashutoshb97/CRISPR-AID-SD108/blob/master/unirep_tutorial.ipynb\" target=\"_parent\"><img src=\"https://colab.research.google.com/assets/colab-badge.svg\" alt=\"Open In Colab\"/></a>"
      ]
    },
    {
      "cell_type": "markdown",
      "metadata": {
        "id": "osX4zV2R8MAh",
        "colab_type": "text"
      },
      "source": [
        "## How to use the UniRep mLSTM \"babbler\". This version demonstrates the 64-unit and the 1900-unit architecture. \n",
        "\n",
        "We recommend getting started with the 64-unit architecture as it is easier and faster to run, but has the same interface as the 1900-unit one."
      ]
    },
    {
      "cell_type": "markdown",
      "metadata": {
        "id": "k7hJQRNn8MAs",
        "colab_type": "text"
      },
      "source": [
        "Use the 64-unit or the 1900-unit model?"
      ]
    },
    {
      "cell_type": "code",
      "metadata": {
        "id": "vMzFqFBH8MAv",
        "colab_type": "code",
        "colab": {}
      },
      "source": [
        "USE_FULL_1900_DIM_MODEL = False # if True use 1900 dimensional model, else use 64 dimensional one."
      ],
      "execution_count": 0,
      "outputs": []
    },
    {
      "cell_type": "code",
      "metadata": {
        "id": "VYN5P9uy-5iq",
        "colab_type": "code",
        "colab": {}
      },
      "source": [
        "import awscli"
      ],
      "execution_count": 0,
      "outputs": []
    },
    {
      "cell_type": "code",
      "metadata": {
        "id": "Rorn9mgTQXjo",
        "colab_type": "code",
        "colab": {
          "base_uri": "https://localhost:8080/",
          "height": 575
        },
        "outputId": "3cd9c456-e499-427c-850f-69470c049c12"
      },
      "source": [
        "pip install awscli"
      ],
      "execution_count": 3,
      "outputs": [
        {
          "output_type": "stream",
          "text": [
            "Collecting awscli\n",
            "\u001b[?25l  Downloading https://files.pythonhosted.org/packages/94/3d/2ae2f04aa1cc5b707d08e19897a2674cb472b8c99bf0e18a6d8c48acdb6a/awscli-1.18.71-py2.py3-none-any.whl (3.1MB)\n",
            "\u001b[K     |████████████████████████████████| 3.1MB 2.9MB/s \n",
            "\u001b[?25hCollecting rsa<=3.5.0,>=3.1.2\n",
            "\u001b[?25l  Downloading https://files.pythonhosted.org/packages/e1/ae/baedc9cb175552e95f3395c43055a6a5e125ae4d48a1d7a924baca83e92e/rsa-3.4.2-py2.py3-none-any.whl (46kB)\n",
            "\u001b[K     |████████████████████████████████| 51kB 6.3MB/s \n",
            "\u001b[?25hCollecting botocore==1.16.21\n",
            "\u001b[?25l  Downloading https://files.pythonhosted.org/packages/8b/13/ac741f2ed18dde0067077fbd699c0240ef9f603ed9c4b058c9ccafb92647/botocore-1.16.21-py2.py3-none-any.whl (6.2MB)\n",
            "\u001b[K     |████████████████████████████████| 6.2MB 20.1MB/s \n",
            "\u001b[?25hRequirement already satisfied: s3transfer<0.4.0,>=0.3.0 in /usr/local/lib/python3.6/dist-packages (from awscli) (0.3.3)\n",
            "Requirement already satisfied: PyYAML<5.4,>=3.10; python_version != \"3.4\" in /usr/local/lib/python3.6/dist-packages (from awscli) (3.13)\n",
            "Requirement already satisfied: docutils<0.16,>=0.10 in /usr/local/lib/python3.6/dist-packages (from awscli) (0.15.2)\n",
            "Collecting colorama<0.4.4,>=0.2.5; python_version != \"3.4\"\n",
            "  Downloading https://files.pythonhosted.org/packages/c9/dc/45cdef1b4d119eb96316b3117e6d5708a08029992b2fee2c143c7a0a5cc5/colorama-0.4.3-py2.py3-none-any.whl\n",
            "Requirement already satisfied: pyasn1>=0.1.3 in /usr/local/lib/python3.6/dist-packages (from rsa<=3.5.0,>=3.1.2->awscli) (0.4.8)\n",
            "Requirement already satisfied: jmespath<1.0.0,>=0.7.1 in /usr/local/lib/python3.6/dist-packages (from botocore==1.16.21->awscli) (0.10.0)\n",
            "Requirement already satisfied: urllib3<1.26,>=1.20; python_version != \"3.4\" in /usr/local/lib/python3.6/dist-packages (from botocore==1.16.21->awscli) (1.24.3)\n",
            "Requirement already satisfied: python-dateutil<3.0.0,>=2.1 in /usr/local/lib/python3.6/dist-packages (from botocore==1.16.21->awscli) (2.8.1)\n",
            "Requirement already satisfied: six>=1.5 in /usr/local/lib/python3.6/dist-packages (from python-dateutil<3.0.0,>=2.1->botocore==1.16.21->awscli) (1.12.0)\n",
            "Installing collected packages: rsa, botocore, colorama, awscli\n",
            "  Found existing installation: rsa 4.0\n",
            "    Uninstalling rsa-4.0:\n",
            "      Successfully uninstalled rsa-4.0\n",
            "  Found existing installation: botocore 1.16.19\n",
            "    Uninstalling botocore-1.16.19:\n",
            "      Successfully uninstalled botocore-1.16.19\n",
            "Successfully installed awscli-1.18.71 botocore-1.16.21 colorama-0.4.3 rsa-3.4.2\n"
          ],
          "name": "stdout"
        },
        {
          "output_type": "display_data",
          "data": {
            "application/vnd.colab-display-data+json": {
              "pip_warning": {
                "packages": [
                  "rsa"
                ]
              }
            }
          },
          "metadata": {
            "tags": []
          }
        }
      ]
    },
    {
      "cell_type": "code",
      "metadata": {
        "id": "FB8WdHnL-7ZL",
        "colab_type": "code",
        "outputId": "4bd83d45-9df5-45ff-df95-5bff91e357cd",
        "colab": {
          "base_uri": "https://localhost:8080/",
          "height": 642
        }
      },
      "source": [
        "pip install tensorflow==1.3.0"
      ],
      "execution_count": 1,
      "outputs": [
        {
          "output_type": "stream",
          "text": [
            "Collecting tensorflow==1.3.0\n",
            "\u001b[?25l  Downloading https://files.pythonhosted.org/packages/7c/9f/57e1404fc9345759e4a732c4ab48ab4dd78fd1e60ee1270442b8850fa75f/tensorflow-1.3.0-cp36-cp36m-manylinux1_x86_64.whl (43.5MB)\n",
            "\u001b[K     |████████████████████████████████| 43.6MB 93kB/s \n",
            "\u001b[?25hRequirement already satisfied: six>=1.10.0 in /usr/local/lib/python3.6/dist-packages (from tensorflow==1.3.0) (1.12.0)\n",
            "Requirement already satisfied: numpy>=1.11.0 in /usr/local/lib/python3.6/dist-packages (from tensorflow==1.3.0) (1.18.4)\n",
            "Requirement already satisfied: wheel>=0.26 in /usr/local/lib/python3.6/dist-packages (from tensorflow==1.3.0) (0.34.2)\n",
            "Requirement already satisfied: protobuf>=3.3.0 in /usr/local/lib/python3.6/dist-packages (from tensorflow==1.3.0) (3.10.0)\n",
            "Collecting tensorflow-tensorboard<0.2.0,>=0.1.0\n",
            "\u001b[?25l  Downloading https://files.pythonhosted.org/packages/93/31/bb4111c3141d22bd7b2b553a26aa0c1863c86cb723919e5bd7847b3de4fc/tensorflow_tensorboard-0.1.8-py3-none-any.whl (1.6MB)\n",
            "\u001b[K     |████████████████████████████████| 1.6MB 37.7MB/s \n",
            "\u001b[?25hRequirement already satisfied: setuptools in /usr/local/lib/python3.6/dist-packages (from protobuf>=3.3.0->tensorflow==1.3.0) (47.1.1)\n",
            "Requirement already satisfied: werkzeug>=0.11.10 in /usr/local/lib/python3.6/dist-packages (from tensorflow-tensorboard<0.2.0,>=0.1.0->tensorflow==1.3.0) (1.0.1)\n",
            "Requirement already satisfied: markdown>=2.6.8 in /usr/local/lib/python3.6/dist-packages (from tensorflow-tensorboard<0.2.0,>=0.1.0->tensorflow==1.3.0) (3.2.2)\n",
            "Collecting html5lib==0.9999999\n",
            "\u001b[?25l  Downloading https://files.pythonhosted.org/packages/ae/ae/bcb60402c60932b32dfaf19bb53870b29eda2cd17551ba5639219fb5ebf9/html5lib-0.9999999.tar.gz (889kB)\n",
            "\u001b[K     |████████████████████████████████| 890kB 42.7MB/s \n",
            "\u001b[?25hCollecting bleach==1.5.0\n",
            "  Downloading https://files.pythonhosted.org/packages/33/70/86c5fec937ea4964184d4d6c4f0b9551564f821e1c3575907639036d9b90/bleach-1.5.0-py2.py3-none-any.whl\n",
            "Requirement already satisfied: importlib-metadata; python_version < \"3.8\" in /usr/local/lib/python3.6/dist-packages (from markdown>=2.6.8->tensorflow-tensorboard<0.2.0,>=0.1.0->tensorflow==1.3.0) (1.6.0)\n",
            "Requirement already satisfied: zipp>=0.5 in /usr/local/lib/python3.6/dist-packages (from importlib-metadata; python_version < \"3.8\"->markdown>=2.6.8->tensorflow-tensorboard<0.2.0,>=0.1.0->tensorflow==1.3.0) (3.1.0)\n",
            "Building wheels for collected packages: html5lib\n",
            "  Building wheel for html5lib (setup.py) ... \u001b[?25l\u001b[?25hdone\n",
            "  Created wheel for html5lib: filename=html5lib-0.9999999-cp36-none-any.whl size=107220 sha256=d6e68c6bddf030e40ed8f96705320bafd99f772961a8d71f83161f0149401519\n",
            "  Stored in directory: /root/.cache/pip/wheels/50/ae/f9/d2b189788efcf61d1ee0e36045476735c838898eef1cad6e29\n",
            "Successfully built html5lib\n",
            "Installing collected packages: html5lib, bleach, tensorflow-tensorboard, tensorflow\n",
            "  Found existing installation: html5lib 1.0.1\n",
            "    Uninstalling html5lib-1.0.1:\n",
            "      Successfully uninstalled html5lib-1.0.1\n",
            "  Found existing installation: bleach 3.1.5\n",
            "    Uninstalling bleach-3.1.5:\n",
            "      Successfully uninstalled bleach-3.1.5\n",
            "  Found existing installation: tensorflow 2.2.0\n",
            "    Uninstalling tensorflow-2.2.0:\n",
            "      Successfully uninstalled tensorflow-2.2.0\n",
            "Successfully installed bleach-1.5.0 html5lib-0.9999999 tensorflow-1.3.0 tensorflow-tensorboard-0.1.8\n"
          ],
          "name": "stdout"
        }
      ]
    },
    {
      "cell_type": "markdown",
      "metadata": {
        "id": "0ye5gL558MA5",
        "colab_type": "text"
      },
      "source": [
        "## Setup"
      ]
    },
    {
      "cell_type": "code",
      "metadata": {
        "id": "AeTk6rUY8MA6",
        "colab_type": "code",
        "colab": {
          "base_uri": "https://localhost:8080/",
          "height": 238
        },
        "outputId": "ed5236b1-c176-4240-aac9-28980e11c3fd"
      },
      "source": [
        "import tensorflow as tf\n",
        "import numpy as np\n",
        "\n",
        "# Set seeds\n",
        "tf.set_random_seed(42)\n",
        "#tf.random.set_seed(42)\n",
        "np.random.seed(42)\n",
        "\n",
        "if USE_FULL_1900_DIM_MODEL:\n",
        "    # Sync relevant weight files\n",
        "    !aws s3 sync --no-sign-request --quiet s3://unirep-public/1900_weights/ 1900_weights/\n",
        "    \n",
        "    # Import the mLSTM babbler model\n",
        "    from unirep import babbler1900 as babbler\n",
        "    \n",
        "    # Where model weights are stored.\n",
        "    MODEL_WEIGHT_PATH = \"./1900_weights\"\n",
        "    \n",
        "else:\n",
        "    # Sync relevant weight files\n",
        "    !aws s3 sync --no-sign-request --quiet s3://unirep-public/64_weights/ 64_weights/\n",
        "    \n",
        "    # Import the mLSTM babbler model\n",
        "    from unirep import babbler64 as babbler\n",
        "    \n",
        "    # Where model weights are stored.\n",
        "    MODEL_WEIGHT_PATH = \"./64_weights\""
      ],
      "execution_count": 4,
      "outputs": [
        {
          "output_type": "stream",
          "text": [
            "/usr/local/lib/python3.6/dist-packages/tensorflow/python/framework/dtypes.py:458: FutureWarning: Passing (type, 1) or '1type' as a synonym of type is deprecated; in a future version of numpy, it will be understood as (type, (1,)) / '(1,)type'.\n",
            "  _np_qint8 = np.dtype([(\"qint8\", np.int8, 1)])\n",
            "/usr/local/lib/python3.6/dist-packages/tensorflow/python/framework/dtypes.py:459: FutureWarning: Passing (type, 1) or '1type' as a synonym of type is deprecated; in a future version of numpy, it will be understood as (type, (1,)) / '(1,)type'.\n",
            "  _np_quint8 = np.dtype([(\"quint8\", np.uint8, 1)])\n",
            "/usr/local/lib/python3.6/dist-packages/tensorflow/python/framework/dtypes.py:460: FutureWarning: Passing (type, 1) or '1type' as a synonym of type is deprecated; in a future version of numpy, it will be understood as (type, (1,)) / '(1,)type'.\n",
            "  _np_qint16 = np.dtype([(\"qint16\", np.int16, 1)])\n",
            "/usr/local/lib/python3.6/dist-packages/tensorflow/python/framework/dtypes.py:461: FutureWarning: Passing (type, 1) or '1type' as a synonym of type is deprecated; in a future version of numpy, it will be understood as (type, (1,)) / '(1,)type'.\n",
            "  _np_quint16 = np.dtype([(\"quint16\", np.uint16, 1)])\n",
            "/usr/local/lib/python3.6/dist-packages/tensorflow/python/framework/dtypes.py:462: FutureWarning: Passing (type, 1) or '1type' as a synonym of type is deprecated; in a future version of numpy, it will be understood as (type, (1,)) / '(1,)type'.\n",
            "  _np_qint32 = np.dtype([(\"qint32\", np.int32, 1)])\n",
            "/usr/local/lib/python3.6/dist-packages/tensorflow/python/framework/dtypes.py:465: FutureWarning: Passing (type, 1) or '1type' as a synonym of type is deprecated; in a future version of numpy, it will be understood as (type, (1,)) / '(1,)type'.\n",
            "  np_resource = np.dtype([(\"resource\", np.ubyte, 1)])\n"
          ],
          "name": "stderr"
        }
      ]
    },
    {
      "cell_type": "markdown",
      "metadata": {
        "id": "6ek9T8Ot8MBE",
        "colab_type": "text"
      },
      "source": [
        "## Data formatting and management"
      ]
    },
    {
      "cell_type": "markdown",
      "metadata": {
        "id": "g-jUTa1V8MBF",
        "colab_type": "text"
      },
      "source": [
        "Initialize UniRep, also referred to as the \"babbler\" in our code. You need to provide the batch size you will use and the path to the weight directory."
      ]
    },
    {
      "cell_type": "code",
      "metadata": {
        "id": "LHil3Lsu8MBH",
        "colab_type": "code",
        "colab": {}
      },
      "source": [
        "batch_size = 403\n",
        "b = babbler(batch_size=batch_size, model_path=MODEL_WEIGHT_PATH)"
      ],
      "execution_count": 0,
      "outputs": []
    },
    {
      "cell_type": "markdown",
      "metadata": {
        "id": "ti-2-oHB8MBM",
        "colab_type": "text"
      },
      "source": [
        "UniRep needs to receive data in the correct format, a (batch_size, max_seq_len) matrix with integer values, where the integers correspond to an amino acid label at that position, and the end of the sequence is padded with 0s until the max sequence length to form a non-ragged rectangular matrix. We provide a formatting function to translate a string of amino acids into a list of integers with the correct codex:"
      ]
    },
    {
      "cell_type": "code",
      "metadata": {
        "id": "yyre0Z1t8MBN",
        "colab_type": "code",
        "colab": {}
      },
      "source": [
        "seq = \"MRKGEELFTGVVPILVELDGDVNGHKFSVRGEGEGDATNGKLTLKFICTTGKLPVPWPTLVTTLTYGVQCFARYPDHMKQHDFFKSAMPEGYVQERTISFKDDGTYKTRAEVKFEGDTLVNRIELKGIDFKEDGNILGHKLEYNFNSHNVYITADKQKNGIKANFKIRHNVEDGSVQLADHYQQNTPIGDGPVLLPDNHYLSTQSVLSKDPNEKRDHMVLLEFVTAAGITHGMDELYK\""
      ],
      "execution_count": 0,
      "outputs": []
    },
    {
      "cell_type": "code",
      "metadata": {
        "id": "ympjlxvb8MBR",
        "colab_type": "code",
        "outputId": "bd7b7d3a-a668-4160-e45d-bc98f74530cc",
        "colab": {
          "base_uri": "https://localhost:8080/",
          "height": 269
        }
      },
      "source": [
        "np.array(b.format_seq(seq))"
      ],
      "execution_count": 7,
      "outputs": [
        {
          "output_type": "execute_result",
          "data": {
            "text/plain": [
              "array([24,  1,  2,  4, 13,  6,  6, 21, 18,  8, 13, 16, 16, 14, 17, 21, 16,\n",
              "        6, 21,  5, 13,  5, 16,  9, 13,  3,  4, 18,  7, 16,  2, 13,  6, 13,\n",
              "        6, 13,  5, 15,  8,  9, 13,  4, 21,  8, 21,  4, 18, 17, 11,  8,  8,\n",
              "       13,  4, 21, 14, 16, 14, 20, 14,  8, 21, 16,  8,  8, 21,  8, 19, 13,\n",
              "       16, 10, 11, 18, 15,  2, 19, 14,  5,  3,  1,  4, 10,  3,  5, 18, 18,\n",
              "        4,  7, 15,  1, 14,  6, 13, 19, 16, 10,  6,  2,  8, 17,  7, 18,  4,\n",
              "        5,  5, 13,  8, 19,  4,  8,  2, 15,  6, 16,  4, 18,  6, 13,  5,  8,\n",
              "       21, 16,  9,  2, 17,  6, 21,  4, 13, 17,  5, 18,  4,  6,  5, 13,  9,\n",
              "       17, 21, 13,  3,  4, 21,  6, 19,  9, 18,  9,  7,  3,  9, 16, 19, 17,\n",
              "        8, 15,  5,  4, 10,  4,  9, 13, 17,  4, 15,  9, 18,  4, 17,  2,  3,\n",
              "        9, 16,  6,  5, 13,  7, 16, 10, 21, 15,  5,  3, 19, 10, 10,  9,  8,\n",
              "       14, 17, 13,  5, 13, 14, 16, 21, 21, 14,  5,  9,  3, 19, 21,  7,  8,\n",
              "       10,  7, 16, 21,  7,  4,  5, 14,  9,  6,  4,  2,  5,  3,  1, 16, 21,\n",
              "       21,  6, 18, 16,  8, 15, 15, 13, 17,  8,  3, 13,  1,  5,  6, 21, 19,\n",
              "        4])"
            ]
          },
          "metadata": {
            "tags": []
          },
          "execution_count": 7
        }
      ]
    },
    {
      "cell_type": "markdown",
      "metadata": {
        "id": "2cZSjvb-8MBU",
        "colab_type": "text"
      },
      "source": [
        "We also provide a function that will check your amino acid sequences don't contain any characters which will break the UniRep model."
      ]
    },
    {
      "cell_type": "code",
      "metadata": {
        "id": "kSshnGNd8MBU",
        "colab_type": "code",
        "outputId": "5ea5a907-4925-49a9-bd30-67c19dfa5754",
        "colab": {
          "base_uri": "https://localhost:8080/",
          "height": 34
        }
      },
      "source": [
        "b.is_valid_seq(seq)"
      ],
      "execution_count": 8,
      "outputs": [
        {
          "output_type": "execute_result",
          "data": {
            "text/plain": [
              "True"
            ]
          },
          "metadata": {
            "tags": []
          },
          "execution_count": 8
        }
      ]
    },
    {
      "cell_type": "markdown",
      "metadata": {
        "id": "3utt-V5j8MBY",
        "colab_type": "text"
      },
      "source": [
        "You could use your own data flow as long as you ensure that the data format is obeyed. Alternatively, you can use the data flow we've implemented for UniRep training, which happens in the tensorflow graph. It reads from a file of integer sequences, shuffles them around, collects them into groups of similar length (to minimize padding waste) and pads them to the max_length. Here's how to do that:"
      ]
    },
    {
      "cell_type": "markdown",
      "metadata": {
        "id": "ncAIvLX48MBY",
        "colab_type": "text"
      },
      "source": [
        "First, sequences need to be saved in the correct format. Suppose we have a new-line seperated file of amino acid sequences, `seqs.txt`, and we want to format them. Note that training is currently only publicly supported for amino acid sequences less than 275 amino acids as gradient updates for sequences longer than that start to get unwieldy. If you want to train on sequences longer than this, please reach out to us. \n",
        "\n",
        "Sequence formatting can be done as follows:"
      ]
    },
    {
      "cell_type": "code",
      "metadata": {
        "id": "GRHR4yto8MBZ",
        "colab_type": "code",
        "colab": {
          "base_uri": "https://localhost:8080/",
          "height": 54
        },
        "outputId": "c14fe6fa-7bab-40ef-9fff-f37ef1857981"
      },
      "source": [
        "# Before you can train your model, \n",
        "y_output = []\n",
        "with open(\"non_log_int_output.txt\", \"r\") as source:\n",
        "  for i in enumerate(source):\n",
        "    y_output.append(i[1][:5].strip(\"\\n\"))\n",
        "\n",
        "print(y_output)\n",
        "#print(type(y_output))\n",
        "with open(\"seqs.txt\", \"r\") as source:\n",
        "    with open(\"formatted.txt\", \"w\") as destination:\n",
        "        for i,seq in enumerate(source):\n",
        "            seq = seq.strip()\n",
        "            if b.is_valid_seq(seq) and len(seq) < 2500: \n",
        "                formatted_input = \",\".join(map(str,b.format_seq(seq)))\n",
        "                #print(type(formatted_input))\n",
        "                formatted = y_output[i] + \",\" + formatted_input\n",
        "                #print(formatted)\n",
        "                destination.write(formatted)\n",
        "                destination.write('\\n')\n",
        "\n",
        "    "
      ],
      "execution_count": 32,
      "outputs": [
        {
          "output_type": "stream",
          "text": [
            "['54', '88', '73', '84', '62', '42', '14', '16', '39', '42', '47', '124', '149', '73', '38', '50', '110', '64', '27', '43', '8', '28', '86', '98', '7', '113', '158', '83', '12', '55', '36', '79', '38', '55', '111', '68', '217', '74', '35', '123', '18', '90', '76', '23', '39', '84', '300', '51', '65', '159', '91', '30', '26', '55', '54', '61', '88', '61', '290', '10', '81', '23', '114', '60', '282', '51', '108', '17', '48', '111', '26', '76', '68', '61', '45', '93', '82', '206', '38', '107', '67', '46', '62', '33', '63', '89', '72', '130', '105', '146', '73', '29', '50', '10', '38', '14', '42', '41', '156', '23', '43', '133', '73', '122', '40', '47', '65', '92', '86', '25', '13', '108', '77', '96', '452', '81', '16', '21', '9', '58', '73', '68', '144', '50', '56', '81', '44', '47', '105', '136', '159', '40', '230', '35', '58', '109', '104', '84', '105', '118', '81', '96', '109', '105', '104', '91', '48', '105', '78', '154', '44', '148', '171', '51', '38', '95', '29', '6', '20', '53', '43', '90', '11', '65', '83', '55', '115', '118', '86', '28', '58', '91', '60', '45', '48', '46', '39', '3', '84', '75', '21', '141', '31', '107', '144', '52', '45', '27', '53', '105', '125', '218', '91', '207', '104', '31', '95', '107', '14', '54', '54', '1936', '35', '10', '14', '74', '109', '29', '15', '87', '126', '74', '55', '42', '81', '78', '12', '54', '54', '114', '73', '120', '18', '66', '84', '83', '21', '59', '100', '20', '99', '84', '102', '92', '50', '103', '21', '88', '7', '60', '64', '141', '60', '73', '80', '23', '137', '69', '12', '23', '99', '13', '1', '18', '77', '370', '82', '101', '181', '68', '68', '87', '74', '60', '34', '75', '41', '62', '21', '102', '81', '86', '166', '52', '58', '10', '15', '52', '98', '203', '11', '23', '12', '551', '24', '82', '75', '26', '168', '66', '82', '83', '28', '141', '266', '13', '140', '123', '132', '52', '8', '51', '50', '84', '58', '65', '42', '56', '46', '74', '111', '34', '61', '76', '43', '38', '112', '84', '115', '223', '137', '44', '570', '58', '41', '47', '79', '52', '95', '63', '32', '93', '59', '195', '72', '57', '11', '108', '59', '25', '15', '90', '65', '27', '52', '108', '59', '53', '45', '88', '88', '38', '74', '96', '61', '63', '105', '90', '134', '103', '95', '58', '113', '21', '75', '53', '61', '29', '81', '22', '121', '58', '91', '56', '108', '70', '54', '70', '166', '144', '93', '11', '69', '417', '28', '62', '33', '31', '57', '67', '57', '57', '67', '47', '45', '54', '58', '21', '99', '64', '114', '80', '88']\n"
          ],
          "name": "stdout"
        }
      ]
    },
    {
      "cell_type": "markdown",
      "metadata": {
        "id": "e9Qt-leF8MBb",
        "colab_type": "text"
      },
      "source": [
        "This is what the integer format looks like"
      ]
    },
    {
      "cell_type": "code",
      "metadata": {
        "id": "L_aryFcC8MBb",
        "colab_type": "code",
        "outputId": "4a5d7d2f-86ba-474e-9a42-30dd7f7507a5",
        "colab": {
          "base_uri": "https://localhost:8080/",
          "height": 54
        }
      },
      "source": [
        "!head -n1 formatted.txt"
      ],
      "execution_count": 33,
      "outputs": [
        {
          "output_type": "stream",
          "text": [
            "54,24,1,18,4,16,14,16,13,21,15,7,2,8,2,6,21,1,9,7,16,8,21,9,7,21,9,9,13,4,13,18,9,1,19,21,14,13,17,21,2,15,18,14,4,14,16,14,7,15,17,8,7,14,15,17,14,4,19,2,13,6,7,18,10,18,2,4,21,7,11,17,7,7,9,19,11,7,8,8,3,10,18,21,7,7,21,4,7,7,8,7,2,21,16,13,4,2,15,18,3,7,7,2,2,15,6,17,4,18,17,18,7,7,4,7,14,4,9,13,9,4,14,18,16,4,16,19,4,16,7,14,18,18,17,17,18,15,8,15,7,17,18,8,18,17,21,8,7,8,17,16,16,17,14,21,17,18,3,18,18,18,14,21,21,17,1,18,18,18,18,4,10,18,4,4,20,10,4,9,17,18,19,4,5,16,21,8,7,21,14,4,8,4,21,4,17,8,21,14,8,1,2,7,21,10,21,10,14,1,16,10,7,20,4,6,17,7,7,2,1,13,17,14,9,6,18,15,4,13,21,9,16,5,21,16,4,10,6,6,8,2,4,10,18,21,7,18,21,10,4,2,16,21,6,7,18,8,4,9,6,21,13,17,2,7,19,18,21,13,5,7,16,6,4,20,17,4,6,7,19,5,21,6,21,5,17,5,9,11,2,7,6,21,2,4,18,10,8,18,17,18,7,7,16,2,19,4,21,19,21,5,7,1,4,9,21,14,21,9,14,7,4,4,21,6,13,4,4,3,17,15,5,16,19,16,17,17,21,5,6,7,18,14,15,17,1,18,9,13,13,15,19,7,4,15,5,18,18,4,17,21,10,6,7,6,8,7,9,7,7,4,8,21,9,8,17,17,15,17,4,7,16,9,8,21,21,7,4,3,18,16,17,8,8,9,13,5,7,13,6,18,18,7,4,19,9,17,7,4,17,9,5,4,9,8,6,19,8,21,4,6\n"
          ],
          "name": "stdout"
        }
      ]
    },
    {
      "cell_type": "markdown",
      "metadata": {
        "id": "fVqMCgjI8MBd",
        "colab_type": "text"
      },
      "source": [
        "Notice that by default format_seq does not include the stop symbol (25) at the end of the sequence. This is the correct behavior if you are trying to train a top model, but not if you are training UniRep representations."
      ]
    },
    {
      "cell_type": "markdown",
      "metadata": {
        "id": "Sp3yfyRw8MBe",
        "colab_type": "text"
      },
      "source": [
        "Now we can use a custom function to bucket, batch and pad sequences from `formatted.txt` (which has the correct integer codex after calling `babbler.format_seq()`). The bucketing occurs in the graph. \n",
        "\n",
        "What is bucketing? Specify a lower and upper bound, and interval. All sequences less than lower or greater than upper will be batched together. The interval defines the \"sides\" of buckets between these bounds. Don't pick a small interval for a small dataset because the function will just repeat a sequence if there are not enough to\n",
        "fill a batch. All batches are the size you passed when initializing the babbler.\n",
        "\n",
        "This is also doing a few other things:\n",
        "- Shuffling the sequences by randomly sampling from a 10000 sequence buffer\n",
        "- Automatically padding the sequences with zeros so the returned batch is a perfect rectangle\n",
        "- Automatically repeating the dataset"
      ]
    },
    {
      "cell_type": "code",
      "metadata": {
        "id": "JuWA3IAc8MBe",
        "colab_type": "code",
        "colab": {
          "base_uri": "https://localhost:8080/",
          "height": 34
        },
        "outputId": "e58aed60-4c91-4b82-ddd7-ee2656c424b9"
      },
      "source": [
        "bucket_op_f = b.bucket_batch_pad(\"formatted.txt\", interval=1000) # Large interval\n",
        "print(type(bucket_op_f))"
      ],
      "execution_count": 34,
      "outputs": [
        {
          "output_type": "stream",
          "text": [
            "<class 'tensorflow.python.framework.ops.Tensor'>\n"
          ],
          "name": "stdout"
        }
      ]
    },
    {
      "cell_type": "markdown",
      "metadata": {
        "id": "XYKU6rFc8MBh",
        "colab_type": "text"
      },
      "source": [
        "Inconveniently, this does not make it easy for a value to be associated with each sequence and not lost during shuffling. You can get around this by just prepending every integer sequence with the sequence label (eg, every sequence would be saved to the file as \"{brightness value}, 24, 1, 5,...\" and then you could just index out the first column after calling the `bucket_op`. Please reach out if you have questions on how to do this."
      ]
    },
    {
      "cell_type": "code",
      "metadata": {
        "id": "aDrGwTRPjwbA",
        "colab_type": "code",
        "colab": {}
      },
      "source": [
        "#indexing out first column after calling bucket_op\n",
        "#print(type(tf.Session().run(bucket_op_f)))\n",
        "#print(tf.Session().run(bucket_op_f)[:,1:]) \n",
        "y_output_final = tf.Session().run(bucket_op_f)[:,0]\n",
        "bucket_op = tf.convert_to_tensor(tf.Session().run(bucket_op_f)[:,1:])"
      ],
      "execution_count": 0,
      "outputs": []
    },
    {
      "cell_type": "markdown",
      "metadata": {
        "id": "yQhkGwMV8MBi",
        "colab_type": "text"
      },
      "source": [
        "Now that we have the `bucket_op`, we can simply `sess.run()` it to get a correctly formatted batch"
      ]
    },
    {
      "cell_type": "code",
      "metadata": {
        "id": "2gB6HTph8MBi",
        "colab_type": "code",
        "colab": {}
      },
      "source": [
        "with tf.Session() as sess:\n",
        "    sess.run(tf.global_variables_initializer())\n",
        "    batch = sess.run(bucket_op)"
      ],
      "execution_count": 0,
      "outputs": []
    },
    {
      "cell_type": "markdown",
      "metadata": {
        "id": "e9d4an2U8MBk",
        "colab_type": "text"
      },
      "source": [
        "You can look back and see that the batch_size we passed to __init__ is indeed 12, and the second dimension must be the longest sequence included in this batch. Now we have the data flow setup (note that as long as your batch looks like this, you don't need my flow), so we can proceed to implementing the graph. The module returns all the operations needed to feed in sequence and get out trainable representations."
      ]
    },
    {
      "cell_type": "markdown",
      "metadata": {
        "id": "wJrkRTLV8MBl",
        "colab_type": "text"
      },
      "source": [
        "## Training a top model and a top model + mLSTM."
      ]
    },
    {
      "cell_type": "markdown",
      "metadata": {
        "id": "fcpSMfBR8MBl",
        "colab_type": "text"
      },
      "source": [
        "First, obtain all of the ops needed to output a representation"
      ]
    },
    {
      "cell_type": "code",
      "metadata": {
        "id": "X2jYekny8MBm",
        "colab_type": "code",
        "colab": {}
      },
      "source": [
        "final_hidden, x_placeholder, batch_size_placeholder, seq_length_placeholder, initial_state_placeholder = (\n",
        "    b.get_rep_ops())"
      ],
      "execution_count": 0,
      "outputs": []
    },
    {
      "cell_type": "markdown",
      "metadata": {
        "id": "BQ7bLkV58MBo",
        "colab_type": "text"
      },
      "source": [
        "`final_hidden` should be a batch_size x rep_dim matrix.\n",
        "\n",
        "Lets say we want to train a basic feed-forward network as the top model, doing regression with MSE loss, and the Adam optimizer. We can do that by:\n",
        "\n",
        "1.  Defining a loss function.\n",
        "\n",
        "2.  Defining an optimizer that's only optimizing variables in the top model.\n",
        "\n",
        "3.  Minimizing the loss inside of a TensorFlow session"
      ]
    },
    {
      "cell_type": "code",
      "metadata": {
        "id": "kKRZ0Hwe8MBp",
        "colab_type": "code",
        "colab": {}
      },
      "source": [
        "#y_placeholder = tf.placeholder(tf.float32, shape=[None,1], name=\"y\")\n",
        "y_placeholder = tf.convert_to_tensor(y_output_final)\n",
        "'''\n",
        "with tf.variable_scope(\"top\"):\n",
        "    prediction = tf.contrib.layers.fully_connected(\n",
        "        final_hidden, 1, activation_fn=None, \n",
        "        weights_initializer=initializer,\n",
        "        biases_initializer=tf.zeros_initializer()\n",
        "    )\n",
        "'''\n",
        "\n",
        "\n",
        "loss = tf.losses.mean_squared_error(y_placeholder, prediction)"
      ],
      "execution_count": 0,
      "outputs": []
    },
    {
      "cell_type": "markdown",
      "metadata": {
        "id": "KZ42blni8MBs",
        "colab_type": "text"
      },
      "source": [
        "You can specifically train the top model first by isolating variables of the \"top\" scope, and forcing the optimizer to only optimize these."
      ]
    },
    {
      "cell_type": "code",
      "metadata": {
        "id": "oWnjeeA18MBs",
        "colab_type": "code",
        "colab": {}
      },
      "source": [
        "learning_rate=.001\n",
        "top_variables = tf.get_collection(tf.GraphKeys.GLOBAL_VARIABLES, scope=\"top\")\n",
        "optimizer = tf.train.AdamOptimizer(learning_rate)\n",
        "top_only_step_op = optimizer.minimize(loss, var_list=top_variables)\n",
        "all_step_op = optimizer.minimize(loss)"
      ],
      "execution_count": 0,
      "outputs": []
    },
    {
      "cell_type": "markdown",
      "metadata": {
        "id": "W2DEDMNO8MBv",
        "colab_type": "text"
      },
      "source": [
        "We next need to define a function that allows us to calculate the length each sequence in the batch so that we know what index to use to obtain the right \"final\" hidden state"
      ]
    },
    {
      "cell_type": "code",
      "metadata": {
        "id": "Oj5KhEAz8MBw",
        "colab_type": "code",
        "outputId": "af33d534-63b4-41a9-b180-2eeb97cbb64b",
        "colab": {
          "base_uri": "https://localhost:8080/",
          "height": 34
        }
      },
      "source": [
        "def nonpad_len(batch):\n",
        "    nonzero = batch > 0\n",
        "    lengths = np.sum(nonzero, axis=1)\n",
        "    return lengths\n",
        "\n",
        "nonpad_len(batch)"
      ],
      "execution_count": 0,
      "outputs": [
        {
          "output_type": "execute_result",
          "data": {
            "text/plain": [
              "array([239, 248, 205, 111,  97, 223, 148, 239, 232, 124, 120, 230])"
            ]
          },
          "metadata": {
            "tags": []
          },
          "execution_count": 17
        }
      ]
    },
    {
      "cell_type": "markdown",
      "metadata": {
        "id": "Sn09ilgo8MBz",
        "colab_type": "text"
      },
      "source": [
        "We are ready to train. As an illustration, let's learn to predict the number 42 just optimizing the top model."
      ]
    },
    {
      "cell_type": "code",
      "metadata": {
        "id": "82yJtRvB8MBz",
        "colab_type": "code",
        "outputId": "84b18ebb-605a-434b-b4eb-0084f5be275b",
        "colab": {
          "base_uri": "https://localhost:8080/",
          "height": 185
        }
      },
      "source": [
        "y = [[42]]*batch_size\n",
        "num_iters = 10\n",
        "with tf.Session() as sess:\n",
        "    sess.run(tf.global_variables_initializer())\n",
        "    for i in range(num_iters):\n",
        "        batch = sess.run(bucket_op)\n",
        "        length = nonpad_len(batch)\n",
        "        loss_, __, = sess.run([loss, top_only_step_op],\n",
        "                feed_dict={\n",
        "                     x_placeholder: batch,\n",
        "                     y_placeholder: y,\n",
        "                     batch_size_placeholder: batch_size,\n",
        "                     seq_length_placeholder:length,\n",
        "                     initial_state_placeholder:b._zero_state\n",
        "                }\n",
        "        )\n",
        "                  \n",
        "        print(\"Iteration {0}: {1}\".format(i, loss_))"
      ],
      "execution_count": 0,
      "outputs": [
        {
          "output_type": "stream",
          "text": [
            "Iteration 0: 1727.8043212890625\n",
            "Iteration 1: 1726.61083984375\n",
            "Iteration 2: 1725.66650390625\n",
            "Iteration 3: 1722.8544921875\n",
            "Iteration 4: 1724.3453369140625\n",
            "Iteration 5: 1722.4638671875\n",
            "Iteration 6: 1720.9686279296875\n",
            "Iteration 7: 1720.2288818359375\n",
            "Iteration 8: 1717.4027099609375\n",
            "Iteration 9: 1718.5859375\n"
          ],
          "name": "stdout"
        }
      ]
    },
    {
      "cell_type": "markdown",
      "metadata": {
        "id": "mLgQHAO58MB2",
        "colab_type": "text"
      },
      "source": [
        "We can also jointly train the top model and the mLSTM. Note that if using the 1900-unit (full) model, you will need a GPU with at least 16GB RAM. To see a demonstration of joint training with fewer computational resources, please run this notebook using the 64-unit model."
      ]
    },
    {
      "cell_type": "code",
      "metadata": {
        "id": "XQ1E46uq8MB2",
        "colab_type": "code",
        "outputId": "25cdc475-9915-4d5d-eafb-73907b0cd7cd",
        "colab": {
          "base_uri": "https://localhost:8080/",
          "height": 185
        }
      },
      "source": [
        "y = [[42]]*batch_size\n",
        "num_iters = 10\n",
        "with tf.Session() as sess:\n",
        "    sess.run(tf.global_variables_initializer())\n",
        "    for i in range(num_iters):\n",
        "        batch = sess.run(bucket_op)\n",
        "        length = nonpad_len(batch)\n",
        "        loss_, __, = sess.run([loss, all_step_op],\n",
        "                feed_dict={\n",
        "                     x_placeholder: batch,\n",
        "                     y_placeholder: y,\n",
        "                     batch_size_placeholder: batch_size,\n",
        "                     seq_length_placeholder:length,\n",
        "                     initial_state_placeholder:b._zero_state\n",
        "                }\n",
        "        )\n",
        "        \n",
        "        print(\"Iteration {0}: {1}\".format(i,loss_))"
      ],
      "execution_count": 0,
      "outputs": [
        {
          "output_type": "stream",
          "text": [
            "Iteration 0: 1727.8043212890625\n",
            "Iteration 1: 1703.43408203125\n",
            "Iteration 2: 1678.0831298828125\n",
            "Iteration 3: 1642.8365478515625\n",
            "Iteration 4: 1620.3525390625\n",
            "Iteration 5: 1580.65771484375\n",
            "Iteration 6: 1546.9124755859375\n",
            "Iteration 7: 1504.5289306640625\n",
            "Iteration 8: 1459.1434326171875\n",
            "Iteration 9: 1432.6119384765625\n"
          ],
          "name": "stdout"
        }
      ]
    }
  ]
}